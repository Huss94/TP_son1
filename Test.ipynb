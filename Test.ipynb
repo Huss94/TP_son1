{
 "cells": [
  {
   "cell_type": "markdown",
   "id": "4b8011dc",
   "metadata": {},
   "source": [
    "# Advanced Audio Processing, part 1: Acoustics and Sound Localization"
   ]
  },
  {
   "cell_type": "markdown",
   "id": "bcd297b6",
   "metadata": {},
   "source": [
    "This is a test Notebook to check if your local installation is working correctly"
   ]
  },
  {
   "cell_type": "code",
   "execution_count": 2,
   "id": "dca40716",
   "metadata": {},
   "outputs": [],
   "source": [
    "# All required import\n",
    "import matplotlib.pyplot as plt\n",
    "import ipywidgets as widgets\n",
    "import numpy as np\n",
    "from client import array\n",
    "import time\n",
    "# %matplotlib notebook"
   ]
  },
  {
   "cell_type": "code",
   "execution_count": 3,
   "id": "3a07bd41",
   "metadata": {
    "scrolled": false
   },
   "outputs": [
    {
     "data": {
      "application/vnd.jupyter.widget-view+json": {
       "model_id": "7b7a37b684f44e62920dde3ac78b4c9d",
       "version_major": 2,
       "version_minor": 0
      },
      "text/plain": [
       "VBox(children=(HBox(children=(FileChooser(path='/media/huss/CE6698AB66989635/Users/tendl/Desktop/M2/Son/TP/TP'…"
      ]
     },
     "metadata": {},
     "output_type": "display_data"
    },
    {
     "name": "stdout",
     "output_type": "stream",
     "text": [
      "{'/media/huss/CE6698AB66989635/Users/tendl/Desktop/M2/Son/TP/TP/50cm_lateral/100.h5': {'analogs': array([], dtype=float64), 'analogs_number': 0, 'channels_number': 8, 'comment': '', 'compression': False, 'counter': False, 'counter_skip': False, 'dataset_duration': 1, 'dataset_length': 20000, 'dataset_number': 2, 'datatype': 'int32', 'date': '2022-11-16 11:45:42.921823', 'duration': 2, 'mems': array([16, 17, 18, 19, 20, 21, 22, 23]), 'mems_number': 8, 'sampling_frequency': 20000.0, 'timestamp': 1668595542.921823}}\n"
     ]
    }
   ],
   "source": [
    "#antenne=array('server')   # When performing real-time acquisition (acquisition system is required)\n",
    "antenne=array('play')     # When playing recorded files (can work without acquisition system)"
   ]
  },
  {
   "cell_type": "code",
   "execution_count": 4,
   "id": "39867a9d",
   "metadata": {
    "scrolled": true
   },
   "outputs": [],
   "source": [
    "# Load acquisition and array parameters from the antenne variable, AFTER launching acquisition or play\n",
    "Fs = antenne.fs\n",
    "BLK = antenne.blocksize\n",
    "N = antenne.mems_nb\n",
    "d = antenne.interspace"
   ]
  },
  {
   "cell_type": "code",
   "execution_count": 5,
   "id": "cedd489e",
   "metadata": {},
   "outputs": [],
   "source": [
    "# Read an audio buffer\n",
    "m = antenne.read()"
   ]
  }
 ],
 "metadata": {
  "kernelspec": {
   "display_name": "Python 3 (ipykernel)",
   "language": "python",
   "name": "python3"
  },
  "language_info": {
   "codemirror_mode": {
    "name": "ipython",
    "version": 3
   },
   "file_extension": ".py",
   "mimetype": "text/x-python",
   "name": "python",
   "nbconvert_exporter": "python",
   "pygments_lexer": "ipython3",
   "version": "3.8.10"
  },
  "varInspector": {
   "cols": {
    "lenName": 16,
    "lenType": 16,
    "lenVar": 40
   },
   "kernels_config": {
    "python": {
     "delete_cmd_postfix": "",
     "delete_cmd_prefix": "del ",
     "library": "var_list.py",
     "varRefreshCmd": "print(var_dic_list())"
    },
    "r": {
     "delete_cmd_postfix": ") ",
     "delete_cmd_prefix": "rm(",
     "library": "var_list.r",
     "varRefreshCmd": "cat(var_dic_list()) "
    }
   },
   "position": {
    "height": "360.85px",
    "left": "1755px",
    "right": "20px",
    "top": "120px",
    "width": "333px"
   },
   "types_to_exclude": [
    "module",
    "function",
    "builtin_function_or_method",
    "instance",
    "_Feature"
   ],
   "window_display": true
  },
  "vscode": {
   "interpreter": {
    "hash": "e7370f93d1d0cde622a1f8e1c04877d8463912d04d973331ad4851f04de6915a"
   }
  }
 },
 "nbformat": 4,
 "nbformat_minor": 5
}
