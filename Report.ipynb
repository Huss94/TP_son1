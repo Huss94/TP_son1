{
 "cells": [
  {
   "cell_type": "markdown",
   "metadata": {},
   "source": [
    "# TP1 son \n",
    "## Hocine ABDELHAMID \n",
    "### M2 ISI, 21100727\n",
    "----"
   ]
  },
  {
   "cell_type": "markdown",
   "metadata": {},
   "source": [
    "### TP1 : propagation of a sound wave and acquisition with a microphone array\n",
    "\n",
    "In this tutorial, we will study the sound wave we get on output when the microphone are in an array configuration.\n",
    "\n",
    "\n",
    "### 1.1 preparation\n",
    "1. Express $z_n$ as a function of the spacing d between the microphones.\n",
    "\n",
    "On a directement : \n",
    "$$z_n = d\\times(n - \\frac{N}{2}) - \\frac{d}{2}$$\n",
    "\n"
   ]
  },
  {
   "cell_type": "markdown",
   "metadata": {},
   "source": [
    "### 1.1.1 Wave Front\n",
    "\n",
    "#### Assumption 1 : the wave front is assumed to be a plane, cf. Fig1.\n",
    "2. Express $d_n$ as a function of $z_n$ and the angle  $\\theta _s$ , which is the angle of incidence defined\n",
    "with respect to the axis [O, z] of the microphone array.\n",
    "<img src= \"images/Fig1.png\">"
   ]
  },
  {
   "cell_type": "markdown",
   "metadata": {},
   "source": [
    "$$d_n = -z_n\\times cos(\\theta _s)$$\n",
    "\n",
    "this distance can either be positive or negative, depending on what microphone. A negative $d_n$ would represent a microphone that is closer from the source from the origin\n",
    "\n",
    "\n",
    "\n",
    "3. Deduce the angle of incidence  $\\theta _s$ , as a function of the delay $\\delta _{\\tau _n}$ \n",
    "\n",
    "as we have $d_n$, we know that $\\delta _{\\tau _n}  = \\frac{d_n}{c}$ where c, is the sound celerity\n",
    "$$\\delta _{\\tau _n}  = \\frac{d_n}{c} = \\frac{-z_n\\times cos(\\theta _s)}{c}$$\n",
    "$$\\theta _s = Arccos(-\\frac{\\delta _{\\tau _n}c}{z_n})\n"
   ]
  },
  {
   "cell_type": "markdown",
   "metadata": {},
   "source": [
    "### Assumption 2 : the wave front is assumed to be spherical, cf. Fig2.\n",
    "4. Express the (Cartesian) coordinates of the source ($x_s$ , $z_s$ ) as a function of the distance $r_s$ between the source and the centre of the microphone array, the position of the $n_{th}$ microphone $z_n$ , the distance $d_n$ and the angles  $\\theta _s$ and $d_n$ , the angle between the wave arriving at the $n_{th}$ microphone and that arriving at O.\n",
    "\n",
    "here $d_n$ isn't equal to $d_n = z_n\\times cos(\\theta _s)$ anymore\n",
    "\n",
    "we have :\n",
    "$$z_n  = (r_s + d_n)\\times sin(\\alpha _s + d\\alpha _n) + z_n$$\n",
    "$$x_n  = (r_s + d_n)\\times cos(\\alpha _s + d\\alpha _n)$$\n"
   ]
  },
  {
   "cell_type": "code",
   "execution_count": 1,
   "metadata": {},
   "outputs": [],
   "source": [
    "# All required import\n",
    "import matplotlib.pyplot as plt\n",
    "import ipywidgets as widgets\n",
    "import numpy as np\n",
    "from client import array\n",
    "import time\n",
    "# %matplotlib notebook"
   ]
  },
  {
   "cell_type": "code",
   "execution_count": 3,
   "metadata": {},
   "outputs": [
    {
     "data": {
      "application/vnd.jupyter.widget-view+json": {
       "model_id": "cb1af20767874947bdc89dde8753f478",
       "version_major": 2,
       "version_minor": 0
      },
      "text/plain": [
       "VBox(children=(HBox(children=(Text(value='10.3.141.1', continuous_update=False, description='Adresse IP:'), Te…"
      ]
     },
     "metadata": {},
     "output_type": "display_data"
    }
   ],
   "source": [
    "antenne=array('server') "
   ]
  },
  {
   "cell_type": "code",
   "execution_count": 5,
   "metadata": {},
   "outputs": [],
   "source": [
    "Fs = antenne.fs\n",
    "BLK = antenne.blocksize\n",
    "N = antenne.mems_nb\n",
    "d = antenne.interspace"
   ]
  },
  {
   "cell_type": "code",
   "execution_count": 5,
   "metadata": {},
   "outputs": [
    {
     "data": {
      "text/plain": [
       "0.48"
      ]
     },
     "execution_count": 5,
     "metadata": {},
     "output_type": "execute_result"
    }
   ],
   "source": [
    "def display_wave_forms(m):\n",
    "\n",
    "    for len(m):\n",
    "\n",
    "        plt.plot(t,x, laebl = \"t\", title='signal en fonction du temps')\n",
    "\n",
    "\n",
    "    plt.xlabel=\"t (s)\"\n",
    "    plt.ylabel=\"x\"\n"
   ]
  },
  {
   "cell_type": "code",
   "execution_count": 9,
   "metadata": {},
   "outputs": [
    {
     "data": {
      "application/vnd.jupyter.widget-view+json": {
       "model_id": "29c715cfd7ed4420a98516f30a4a2d16",
       "version_major": 2,
       "version_minor": 0
      },
      "text/plain": [
       "VBox(children=(HBox(children=(FileChooser(path='/media/huss/CE6698AB66989635/Users/tendl/Desktop/M2/Son/TP/TP'…"
      ]
     },
     "metadata": {},
     "output_type": "display_data"
    },
    {
     "name": "stdout",
     "output_type": "stream",
     "text": [
      "{'/media/huss/CE6698AB66989635/Users/tendl/Desktop/M2/Son/TP/TP/100hz.h5': {'analogs': array([], dtype=float64), 'analogs_number': 0, 'channels_number': 8, 'comment': '', 'compression': False, 'counter': False, 'counter_skip': False, 'dataset_duration': 1, 'dataset_length': 20000, 'dataset_number': 6, 'datatype': 'int32', 'date': '2022-11-16 09:33:12.886347', 'duration': 6, 'mems': array([16, 17, 18, 19, 20, 21, 22, 23]), 'mems_number': 8, 'sampling_frequency': 20000.0, 'timestamp': 1668587592.886347}}\n"
     ]
    }
   ],
   "source": [
    "m = antenne = array(\"play\")"
   ]
  },
  {
   "cell_type": "code",
   "execution_count": 10,
   "metadata": {},
   "outputs": [],
   "source": [
    "m = antenne.read()"
   ]
  },
  {
   "cell_type": "code",
   "execution_count": 13,
   "metadata": {},
   "outputs": [],
   "source": [
    "np.save(\"matrices/100hz\", m)"
   ]
  }
 ],
 "metadata": {
  "kernelspec": {
   "display_name": "Python 3.8.10 64-bit",
   "language": "python",
   "name": "python3"
  },
  "language_info": {
   "codemirror_mode": {
    "name": "ipython",
    "version": 3
   },
   "file_extension": ".py",
   "mimetype": "text/x-python",
   "name": "python",
   "nbconvert_exporter": "python",
   "pygments_lexer": "ipython3",
   "version": "3.8.10"
  },
  "orig_nbformat": 4,
  "vscode": {
   "interpreter": {
    "hash": "e7370f93d1d0cde622a1f8e1c04877d8463912d04d973331ad4851f04de6915a"
   }
  }
 },
 "nbformat": 4,
 "nbformat_minor": 2
}
